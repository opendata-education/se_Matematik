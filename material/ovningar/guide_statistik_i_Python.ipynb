{
 "cells": [
  {
   "cell_type": "markdown",
   "metadata": {},
   "source": [
    "# Statistikavsnitt MaA10"
   ]
  },
  {
   "cell_type": "markdown",
   "metadata": {},
   "source": [
    "#### Innehåll\n",
    "\n",
    "1. [Programmen](#Programmen) <br>\n",
    "   Jupyter Notebooks<br>\n",
    "   Programmeringsspråket Python <br>\n",
    "2. [Statistik](#Statistik)<br>\n",
    "   Vad är diagram<br>\n",
    "   Dåliga och bra diagram <br>\n",
    "   Typer av variabler<br>\n",
    "   Statistiska karakteristikor<br>\n",
    "   Karakteristikor i Python\n",
    "3. [Datasets - Statistik i Python](#Datasets)<br>\n",
    "   Vad är datasets?<br>\n",
    "   Datasets i Python<br>\n",
    "   Histogram<br>\n",
    "   Stapeldiagram<br>\n",
    "4. [Nästa steg](#Nasta)"
   ]
  },
  {
   "cell_type": "markdown",
   "metadata": {},
   "source": [
    "<a id=\"Programmen\"></a>\n",
    "## Programmen"
   ]
  },
  {
   "cell_type": "markdown",
   "metadata": {},
   "source": [
    "### Jupyter Notebooks"
   ]
  },
  {
   "cell_type": "markdown",
   "metadata": {},
   "source": [
    "Jupyter Notebooks kan öppnas direkt i din browser med webbapplikationen [MyBinder](https://mybinder.org/), men om du tänker använda det ordentligt rekommenderas att du laddar ned [Anaconda](https://www.anaconda.com/products/individual).\n",
    "\n",
    "Ett Jupyter-dokument består av textceller och kodceller. Detta är en textcell, även kallad markdown. Du kan öppna en cell i edit mode genom att dubbelklicka den. Du kan **köra** (run) en cell genom att trycka **Ctrl + Enter**.\n",
    "\n",
    "Mer ingående information om Jupyter hittar du i vår [Jupyter-tutorial](https://mybinder.org/v2/gh/cms-opendata-education/cms-jupyter-materials-swedish/HEAD?filepath=Verktyg%2FKom%20ig%C3%A5ng%20med%20Jupyter!.ipynb) (Denna länk öppnar dokumentet i MyBinder. Det kan ta någon minut.)"
   ]
  },
  {
   "cell_type": "markdown",
   "metadata": {},
   "source": [
    "### Programmeringsspråket Python"
   ]
  },
  {
   "cell_type": "code",
   "execution_count": 1,
   "metadata": {},
   "outputs": [
    {
     "name": "stdout",
     "output_type": "stream",
     "text": [
      "Hello World!\n"
     ]
    }
   ],
   "source": [
    "# Detta är en kodcell. Rader som börjar med # kallas kommentarer, och påverkar inte koden.\n",
    "# Om du kör denna cell (Ctrl+Enter) kommer det att skriva ut meddelandet \"Hello World!\"\n",
    "\n",
    "print(\"Hello World!\")"
   ]
  },
  {
   "cell_type": "markdown",
   "metadata": {},
   "source": [
    "Språket vi använder i dessa kodceller heter Python 3. Våra instruktioner för python hittar du här ###, men eftersom Python är ett vitt använt språk hittar man fort hjälp på nätet bara man vet vad man ska fråga efter.\n",
    "\n",
    "Python har en del inbyggda funktioner/kommandon, så som **print**-kommandot i cellen ovan. Man kan utöka de tillgängliga funktionerna genom att hämta in olika funktionspaket med kommandot **import**."
   ]
  },
  {
   "cell_type": "code",
   "execution_count": 2,
   "metadata": {},
   "outputs": [],
   "source": [
    "# Vi hämtar funktionspaket. Om man har kört denna cell kan funktionerna användas i resten av dokumentet.\n",
    "# \"import X as x\" -kommandot importerar ett paket och ger det ett nytt namn för enklare referens\n",
    "\n",
    "import numpy as np             # numpy innehåller funktioner för beräkningar\n",
    "import pandas as pd             # pandas låter oss läsa in statistikfiler\n",
    "import matplotlib.pyplot as plt  # pyplot låter oss rita grafer"
   ]
  },
  {
   "cell_type": "markdown",
   "metadata": {},
   "source": [
    "##### Variabler"
   ]
  },
  {
   "cell_type": "markdown",
   "metadata": {},
   "source": [
    "När vi programmerar i python använder vi vanligen *variabler*. Man använder '**=**' för att definiera en variabel. Variabler kan inte innehålla mellanslag eller åäö, och kan inte börja med en siffra. Variablerna kan sedan användas som delar i räkneoperationer."
   ]
  },
  {
   "cell_type": "code",
   "execution_count": 3,
   "metadata": {},
   "outputs": [
    {
     "name": "stdout",
     "output_type": "stream",
     "text": [
      "Summan är 25\n",
      "Kvadratroten är 5.0\n"
     ]
    }
   ],
   "source": [
    "variabel1 = 16\n",
    "variabel2 = 9\n",
    "summa = variabel1 + variabel2\n",
    "\n",
    "print(\"Summan är\", summa)\n",
    "print(\"Kvadratroten är\", np.sqrt(summa)) \n",
    "# python har ingen inbyggd kvadratrotsfunktion. Till det behöver vi numpy-paketet.\n",
    "# \"np.sqrt()\" räknar kvadratroten, om vi har importerat numpy som np."
   ]
  },
  {
   "cell_type": "markdown",
   "metadata": {},
   "source": [
    "##### Listor"
   ]
  },
  {
   "cell_type": "markdown",
   "metadata": {},
   "source": [
    "Listor är en annan typ av variabel. Listor kan innehålla teckensträngar eller siffror. Numpy innehåller funktioner för beräkningar med listor, exempelvis medeltalet av värden i en lista: **np.mean()**"
   ]
  },
  {
   "cell_type": "code",
   "execution_count": 4,
   "metadata": {},
   "outputs": [
    {
     "name": "stdout",
     "output_type": "stream",
     "text": [
      "En månad är i medeltal 30.4375 dagar lång.\n",
      "Vi avrundar till 30.4 dagar.\n"
     ]
    }
   ],
   "source": [
    "dagar = [31, 28.25, 31, 30, 31, 30, 31, 31, 30, 31, 30, 31]\n",
    "\n",
    "medel = np.mean(dagar)\n",
    "\n",
    "print(\"En månad är i medeltal\", medel, \"dagar lång.\")\n",
    "print(\"Vi avrundar till\", round(medel, 1), \"dagar.\")\n",
    "# kommandot 'round(medel, 1)' avrundar variabeln medel med 1 decimal. "
   ]
  },
  {
   "cell_type": "markdown",
   "metadata": {},
   "source": [
    "<a id=\"Statistik\"></a>\n",
    "## Statistik"
   ]
  },
  {
   "cell_type": "markdown",
   "metadata": {},
   "source": [
    "### Vad är diagram?"
   ]
  },
  {
   "cell_type": "markdown",
   "metadata": {},
   "source": [
    "Diagram är en visualisering av data. Om vi vill skapa oss en uppfattning om åldersfördelningen hos invånarna på en ort eller hur budgeten följs i en förening så måste vi samla data. För att förstå siffrorna vi har samlat, eller för att presentera dem för någon annan, kan vi använda diagram.\n",
    "\n",
    "Diagram kommer i många olika former, men vi ska till en början koncentrera oss på skillnaden mellan histogram och stapeldiagram.\n",
    "\n",
    "<img src=files/diagramex.png width =700> \n",
    "\n",
    "- **Histogram** avbildar en intervallindelning av det statistiska materialet. Alla de undersökta i åldern 0-10 år sätts i den första kategorin, etc. Staplarnas höjd motsvarar *frekvensen*, dvs. antalet individer i kategorin.\n",
    "\n",
    "- **Stapeldiagram** används istället för ett histogram när vi inte kan eller vill göra en intervallindelning av resultaten."
   ]
  },
  {
   "cell_type": "markdown",
   "metadata": {},
   "source": [
    "### Dåliga och bra diagram"
   ]
  },
  {
   "cell_type": "markdown",
   "metadata": {},
   "source": [
    "När man gör diagram är det viktigt att tänka på tydligheten. Diagram är ett sätt att visualisera statistik, och ett bra diagram går lätt att förstå bara med att se på diagrammet.\n",
    "\n",
    "Kan du säga vad som är problematiskt med dessa två diagram?\n",
    "\n",
    "<img src=files/felex.png width=900>\n",
    "\n",
    "> Diagrammet till vänster är en dålig presentation av statistiken. Vid första anblicken ser det ut som om Nicole vann med dubbelt så höga poäng som Alex, men om man tittar på skalan till vänster märker man att poängen skiljde på bara någon procent. Vi ser att skalan gör en stor skillnad för vad grafen berättar, och det är oftast en bra idé att börja y-skalan från 0.\n",
    "\n",
    "> Diagrammet till höger berättar ingenting utan ett sammanhang. Diagrammet saknar rubrik och titlar för axlarna, och det är oklart vad man försöker presentera. Dessutom är det ett problem att diagrammet innehåller 14 värden men bara 10 staplar. Om fördelningen är diskret, t.ex. om den bara innehåller heltalsvärden, gör detta att vissa värden räknas ihop till samma stapel så att den blir oproportionerligt hög. Vi fixar diagrammet. (Diagrammet nedan är baserat på samma värden, men ser helt annorlunda ut när vi rättar till antalet staplar.)\n",
    "\n",
    "<img src=files/trastex.png width=450>"
   ]
  },
  {
   "cell_type": "markdown",
   "metadata": {},
   "source": [
    "### Statistiska karakteristikor"
   ]
  },
  {
   "cell_type": "markdown",
   "metadata": {},
   "source": [
    "Vi använder ofta *karakteristikor* för att sammanfatta statistik. Då kan man beskriva resultatet av en undersökning väldigt kortfattat. Vi repeterar de vanligaste karakteristikorna:\n",
    "\n",
    "- Medelvärde - Summan av alla värden, dividerat med antalet värden.\n",
    "\n",
    "- Median - Det mittersta värdet.\n",
    "\n",
    "- Varians - Ett mått på värdenas spridning.\n",
    "\n",
    "- Standardavvikelse - Ett annat spridningsmått, fås som kvadratroten av variansen."
   ]
  },
  {
   "cell_type": "markdown",
   "metadata": {},
   "source": [
    "### Karakteristikor i Python"
   ]
  },
  {
   "cell_type": "markdown",
   "metadata": {},
   "source": [
    "Python innehåller verktyg för att beräkna karakteristikor. I kodcellen nedan skapar vi en lista med värden och beräknar median, medeltal, varians och standardavvikelse. Lägg märke till att det inte finns något exakt *mittersta värde* för medianen (hälften av värdena är högst 5, hälften är minst 6). Medianen är därför medeltalet av de två mittersta värdena: 5.5"
   ]
  },
  {
   "cell_type": "code",
   "execution_count": 4,
   "metadata": {},
   "outputs": [
    {
     "name": "stdout",
     "output_type": "stream",
     "text": [
      "Median:  5.5\n",
      "Medeltal:  5.0\n",
      "Varians:  8.8\n",
      "Standardavvikelse:  2.9664793948382653\n",
      "Summa:  150\n"
     ]
    }
   ],
   "source": [
    "import numpy as np\n",
    "lista = [1,1,1,1,1,1,2,2,2,3,3,3,4,5,5,6,6,6,6,7,7,8,8,8,8,9,9,9,9,9] \n",
    "\n",
    "print(\"Median: \", np.median(lista))\n",
    "print(\"Medeltal: \",np.mean(lista))   \n",
    "print(\"Varians: \",np.var(lista))    \n",
    "print(\"Standardavvikelse: \",np.std(lista))\n",
    "print(\"Summa: \",np.sum(lista))"
   ]
  },
  {
   "cell_type": "markdown",
   "metadata": {},
   "source": [
    "<a id=\"Datasets\"></a>\n",
    "\n",
    "## Datasets - statistik i python"
   ]
  },
  {
   "cell_type": "markdown",
   "metadata": {},
   "source": [
    "### Vad är datasets?"
   ]
  },
  {
   "cell_type": "markdown",
   "metadata": {},
   "source": [
    "Tekninken erbjuder många effektiva sätt att samla och behandla data. Om vi samlar in data själva kanske vi använder oss av kalkylblad för att anteckna informationen. Här är ett kalkylblad (LibreOffice Calc) som visar en jämförelse mellan medelvitsord och studentvitsord hos en fiktiv klass:\n",
    "\n",
    "<img src=files/calcstudentexempel.png width = 250>\n",
    "\n",
    "Detta dataset är tydligt och inte så omfattande, men inom forskningen kan vi behandla datasets med många tusen värden. Sådana så kallade *open data sets* finns fritt tillgängliga på [internet](https://ourworldindata.org/), och vem som helst får undersöka dem om man kan och vill. De flesta sådana sets är i .csv-format.\n",
    "\n",
    "**CSV-filer**, eller \"comma separated values\" är lätta för program att läsa in. Som man hör på namnet består de av tabellvärden, separerade med kommatecken. Kalkylbladet på bilden ovan ser ut så här i .csv-form: \n",
    "\n",
    "<img src=files/csvstudentexempel.png width = 250>\n",
    "\n",
    "Kalkylprogram låter dig spara kalkylblad som csv-filer. (Save as $ \\rightarrow $ Save as Type: \"Text CSV\")"
   ]
  },
  {
   "cell_type": "markdown",
   "metadata": {},
   "source": [
    "<a id=\"Datasets\"></a>\n",
    "### Datasets i Python"
   ]
  },
  {
   "cell_type": "markdown",
   "metadata": {},
   "source": [
    "Vi kan läsa in datasets med hjälp av Python för att göra beräkningar eller rita grafer. Vi börjar med att behandla den här fiktiva vitsordsstatistiken för att lära oss de viktigaste funktionerna."
   ]
  },
  {
   "cell_type": "code",
   "execution_count": 2,
   "metadata": {},
   "outputs": [
    {
     "data": {
      "text/html": [
       "<div>\n",
       "<style scoped>\n",
       "    .dataframe tbody tr th:only-of-type {\n",
       "        vertical-align: middle;\n",
       "    }\n",
       "\n",
       "    .dataframe tbody tr th {\n",
       "        vertical-align: top;\n",
       "    }\n",
       "\n",
       "    .dataframe thead th {\n",
       "        text-align: right;\n",
       "    }\n",
       "</style>\n",
       "<table border=\"1\" class=\"dataframe\">\n",
       "  <thead>\n",
       "    <tr style=\"text-align: right;\">\n",
       "      <th></th>\n",
       "      <th>Elev</th>\n",
       "      <th>MaAmedel</th>\n",
       "      <th>MaAStudent</th>\n",
       "    </tr>\n",
       "  </thead>\n",
       "  <tbody>\n",
       "    <tr>\n",
       "      <th>0</th>\n",
       "      <td>Anton</td>\n",
       "      <td>6.2</td>\n",
       "      <td>A</td>\n",
       "    </tr>\n",
       "    <tr>\n",
       "      <th>1</th>\n",
       "      <td>Birger</td>\n",
       "      <td>8.1</td>\n",
       "      <td>C</td>\n",
       "    </tr>\n",
       "    <tr>\n",
       "      <th>2</th>\n",
       "      <td>Cindy</td>\n",
       "      <td>8.5</td>\n",
       "      <td>E</td>\n",
       "    </tr>\n",
       "    <tr>\n",
       "      <th>3</th>\n",
       "      <td>Dennis</td>\n",
       "      <td>7.1</td>\n",
       "      <td>B</td>\n",
       "    </tr>\n",
       "  </tbody>\n",
       "</table>\n",
       "</div>"
      ],
      "text/plain": [
       "     Elev  MaAmedel MaAStudent\n",
       "0   Anton       6.2          A\n",
       "1  Birger       8.1          C\n",
       "2   Cindy       8.5          E\n",
       "3  Dennis       7.1          B"
      ]
     },
     "execution_count": 2,
     "metadata": {},
     "output_type": "execute_result"
    }
   ],
   "source": [
    "# Vi skapar en variabel, \"vitsord\", och definierar den genom att läsa in datafilen med funktionen pandas.read_csv()\n",
    "# Adressen som vi sätter till är en lokal sökväg, men man kan också använda en webbadress om datan finns online.\n",
    "\n",
    "vitsord = pd.read_csv(\"files/Studentexempel.csv\")\n",
    "\n",
    "# Med kommandot .head() kan vi se hur tabellen ser ut. Då kan vi märka om något har gått fel när den lästes in.\n",
    "# .head(4) visar de fyra första raderna i tabellen.\n",
    "\n",
    "vitsord.head(4)"
   ]
  },
  {
   "cell_type": "markdown",
   "metadata": {},
   "source": [
    "Tabellen ser bra ut. Inga fel på kolumner och rubriker. Lägg märke till att ordningstal börjar från 0 i python, så den första raden är numrerad 0, den andra 1 osv. Nu ska vi visualisera tabellen med hjälp av diagram."
   ]
  },
  {
   "cell_type": "markdown",
   "metadata": {},
   "source": [
    "### Histogram"
   ]
  },
  {
   "cell_type": "code",
   "execution_count": 8,
   "metadata": {},
   "outputs": [
    {
     "data": {
      "text/plain": [
       "(array([1., 2., 2., 2., 1., 2., 3., 5., 1., 1.]),\n",
       " array([5.4 , 5.82, 6.24, 6.66, 7.08, 7.5 , 7.92, 8.34, 8.76, 9.18, 9.6 ]),\n",
       " <BarContainer object of 10 artists>)"
      ]
     },
     "execution_count": 8,
     "metadata": {},
     "output_type": "execute_result"
    },
    {
     "data": {
      "image/png": "[encoded data removed]",
      "text/plain": [
       "<Figure size 432x288 with 1 Axes>"
      ]
     },
     "metadata": {
      "needs_background": "light"
     },
     "output_type": "display_data"
    }
   ],
   "source": [
    "# Vi använder funktionen hist som hör till paketet matplotlib.pyplot.\n",
    "# Vi måste också berätta för funktionen vad histogrammet ska inkludera.\n",
    "# vitsord[\"MaAmedel\"] betyder \"Kolumnen MaAmedel ur variabeln vitsord\"\n",
    "\n",
    "plt.hist(vitsord[\"MaAmedel\"])"
   ]
  },
  {
   "cell_type": "markdown",
   "metadata": {},
   "source": [
    "Detta histogram är inte så bra. Om vi inte ger några andra instruktioner gör python 10 staplar i diagrammet, men vi vill att varje stapel ska motsvara ett helt vitsord. Vi fixar det:"
   ]
  },
  {
   "cell_type": "code",
   "execution_count": 14,
   "metadata": {
    "scrolled": true
   },
   "outputs": [
    {
     "data": {
      "image/png": "[encoded data removed]",
      "text/plain": [
       "<Figure size 432x288 with 1 Axes>"
      ]
     },
     "metadata": {
      "needs_background": "light"
     },
     "output_type": "display_data"
    }
   ],
   "source": [
    "# bins= anger antalet staplar och range=() anger området.\n",
    "# Lägg märke till att staplarna inte delas automatiskt enligt heltal, utan fördelningen är jämn över området.\n",
    "# Man behöver alltså själv räkna ut hur många staplar som behövs.\n",
    "# Vi kan också göra staplarna lättare att urskilja genom att lägga till parametern edgecolor='black'\n",
    "\n",
    "plt.hist(vitsord[\"MaAmedel\"], bins=6, range=(4,10), edgecolor='black')\n",
    "\n",
    "# Om vi lägger till plt.show() visas diagrammet prydligt utan den märkliga \"(array([1.,...\" -texten \n",
    "plt.show()"
   ]
  },
  {
   "cell_type": "markdown",
   "metadata": {},
   "source": [
    "### Stapeldiagram"
   ]
  },
  {
   "cell_type": "markdown",
   "metadata": {},
   "source": [
    "Vi kan också göra ett diagram över studentvitsorden i tabellen. Då passar inte ett histogram, eftersom studentvitsorden inte är numeriska. Vi tar en titt på hur man gör ett stapeldiagram i python, och sedan gör vi ett diagram över vitsorden:"
   ]
  },
  {
   "cell_type": "code",
   "execution_count": 11,
   "metadata": {},
   "outputs": [
    {
     "data": {
      "image/png": "[encoded data removed]",
      "text/plain": [
       "<Figure size 432x288 with 1 Axes>"
      ]
     },
     "metadata": {
      "needs_background": "light"
     },
     "output_type": "display_data"
    }
   ],
   "source": [
    "x = ['A', 'B', 'C']    # x är en lista på staplarnas namn\n",
    "y = [1, 5, 3]          # y är en lista på staplarnas höjder\n",
    "\n",
    "plt.bar(x, y)          # plt.bar() ritar ett stapeldiagram med de bestämda namnen och höjderna\n",
    "plt.show()"
   ]
  },
  {
   "cell_type": "code",
   "execution_count": 12,
   "metadata": {},
   "outputs": [
    {
     "name": "stdout",
     "output_type": "stream",
     "text": [
      "B    5\n",
      "C    5\n",
      "M    3\n",
      "A    3\n",
      "E    2\n",
      "I    1\n",
      "L    1\n",
      "Name: MaAStudent, dtype: int64\n"
     ]
    }
   ],
   "source": [
    "studentvitsord = ['I','A','B','C','M','E','L']  # Vi gör en lista över vitsordsskalan för att använda som x-skala.\n",
    "\n",
    "antal=vitsord['MaAStudent'].value_counts()      # Vi använder en funktion som räknar hur ofta samma värde förekommer.\n",
    "print(antal)                                    # Vi tar en titt på de räknade värdena. De kommer förstås i fel ordning. "
   ]
  },
  {
   "cell_type": "code",
   "execution_count": 13,
   "metadata": {},
   "outputs": [
    {
     "data": {
      "image/png": "[encoded data removed]",
      "text/plain": [
       "<Figure size 432x288 with 1 Axes>"
      ]
     },
     "metadata": {
      "needs_background": "light"
     },
     "output_type": "display_data"
    }
   ],
   "source": [
    "ordning=[antal['I'],antal['A'],antal['B'],antal['C'],antal['M'],antal['E'],antal['L']]\n",
    "        # Vi sätter de räknade värdena i rätt ordning, \n",
    "\n",
    "plt.bar(studentvitsord, ordning)\n",
    "plt.show()"
   ]
  },
  {
   "cell_type": "markdown",
   "metadata": {},
   "source": [
    "<a id=\"Nasta\"></a>\n",
    "### Nästa steg"
   ]
  },
  {
   "cell_type": "markdown",
   "metadata": {},
   "source": [
    "Nu är vi klara med fiktiva exempel, och det är dags att arbeta med verkliga datasets.\n",
    "\n",
    "Du hittar noggranna exempel på hur detta ska gå till här: \n",
    "\n",
    "Du hittar några förslag på datasets och uppgifter här:\n",
    "\n",
    "Du kan också söka datasets på egen hand och presentera dem, men det kan vara mer utmanande.\n",
    "\n",
    "[Ourworldindata](https://ourworldindata.org/) eller [Ilmantieteenlaitos/Meteorologiska Institutet](https://www.ilmatieteenlaitos.fi/havaintojen-lataus) kan ha något som intresserar.\n"
   ]
  }
 ],
 "metadata": {
  "kernelspec": {
   "display_name": "Python 3",
   "language": "python",
   "name": "python3"
  },
  "language_info": {
   "codemirror_mode": {
    "name": "ipython",
    "version": 3
   },
   "file_extension": ".py",
   "mimetype": "text/x-python",
   "name": "python",
   "nbconvert_exporter": "python",
   "pygments_lexer": "ipython3",
   "version": "3.8.5"
  }
 },
 "nbformat": 4,
 "nbformat_minor": 4
}
