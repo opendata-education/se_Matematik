{
 "cells": [
  {
   "cell_type": "markdown",
   "metadata": {},
   "source": [
    "# Undersök förloppet av en funktion"
   ]
  },
  {
   "cell_type": "markdown",
   "metadata": {},
   "source": [
    "I denna Notebook finns ett flertal exempel på hur man kan visualisera funktioner och deras egenskaper. Börja altid med att köra kodcellen, och därefter kan du undersöka funktionen med olika *sliders*. Koden innehåller förklarande kommentarer, så du kan undersöka den på egen hand och ta modell av den för att göra din egen, eller bara pröva dig fram genom att göra ändringar här.\n",
    "\n",
    "\n",
    "**Obs!** Om du kör en annan kodcell, och sedan går tillbaka och försöker använda någon tidigare *slider*, kan det hända att det inte fungerar. Därför bör du alltid köra rätt kodcell innan du börjar göra inställningar."
   ]
  },
  {
   "cell_type": "markdown",
   "metadata": {},
   "source": [
    "## Andragradsekvation"
   ]
  },
  {
   "cell_type": "markdown",
   "metadata": {},
   "source": [
    "Här ska vi testa på verktyg som låter oss skapa en interaktiv graf där vi kan använda sliders för att ändra parametrarna.\n",
    "Funktionen som används i detta exempel är en andragradsfunktion, $y=ax^2+bx+c$, men du kan också byta ut andragradsfunktionen till något annat, till exempel exponentialfunktionen $a \\cdot b^{c\\cdot x}$ om du byter ut funktionen mot ````a*b**(c*x)````."
   ]
  },
  {
   "cell_type": "code",
   "execution_count": 8,
   "metadata": {},
   "outputs": [
    {
     "data": {
      "application/vnd.jupyter.widget-view+json": {
       "model_id": "ccace3a42fd14c97b8a2a0f663767801",
       "version_major": 2,
       "version_minor": 0
      },
      "text/plain": [
       "interactive(children=(FloatSlider(value=1.0, description='a', max=4.0, min=-2.0, step=0.05), FloatSlider(value…"
      ]
     },
     "metadata": {},
     "output_type": "display_data"
    }
   ],
   "source": [
    "from ipywidgets import interactive\n",
    "import matplotlib.pyplot as plt\n",
    "import numpy as np\n",
    "\n",
    "# Vi definierar en andragradsfunktion\n",
    "def andragrads(x, a, b, c):\n",
    "    return a*x**2+b*x+c\n",
    "\n",
    "\n",
    "\n",
    "# Vi bestämmer gränserna\n",
    "xmin = -5\n",
    "xmax = 5\n",
    "ymin = -2\n",
    "ymax = 5\n",
    "tickstep = 1\n",
    "\n",
    "# Vi definierar en funktion som uppdaterar funktionen när vi ändrar parametrarna a, b och c.\n",
    "def update1(a, b, c):\n",
    "    fig = plt.figure(figsize=(12,8))\n",
    "    plt.title(r'$f(x)=ax^2+bx+c$',fontsize=20) # Grafens titel. $$-tecknen avgränsar LaTeX-kod.\n",
    "    x = np.linspace(xmin, xmax, num=1000) # Vi definierar gränserna och väljer antalet punkter i intervallet.\n",
    "    plt.plot(x, andragrads(x,a,b,c), lw=2.5) # Vi ritar andragradsfunktionen\n",
    "    \n",
    "    # Vi bestämmer axlarnas egenskaper\n",
    "    ax = fig.gca() # Först skapar vi axlarna\n",
    "    ax.set_ylim(ymin, ymax) # y-axelns gränser\n",
    "    ax.set_xlim(xmin, xmax) # x-axelns gränser\n",
    "    ax.set_xticks(np.arange(xmin, xmax+tickstep, tickstep)) # x-axelns markeringar\n",
    "    ax.set_yticks(np.arange(ymin, ymax+tickstep, tickstep)) # y-axelns markeringar\n",
    "    ax.axhline(y=0, color='k') # Förtydligar x-axeln (y=0)\n",
    "    ax.axvline(x=0, color='k') # Förtydligar y-axeln (x=0)\n",
    "    plt.grid() # Rutsystem\n",
    "    \n",
    "    # Axlarnas rubriker\n",
    "    plt.xlabel(\"x\",fontsize=20)\n",
    "    plt.ylabel(\"y\",fontsize=20)\n",
    "    \n",
    "    # Slutligen ritas figuren\n",
    "    plt.show()\n",
    "\n",
    "# När dessa funktioner; andragrads(x, a, b, c) och update1(a, b, c) är definierade,\n",
    "# skriver vi en kort kod som låter oss använda sliders för att göra en interaktiv graf.\n",
    "interactive_plot = interactive(update1, a=(-2, 4, 0.05), b=(-5, 5, 0.2), c=(-5, 5, 0.2))\n",
    "interactive_plot"
   ]
  },
  {
   "cell_type": "markdown",
   "metadata": {},
   "source": [
    "## Derivatan och tangentens riktningskoefficient"
   ]
  },
  {
   "cell_type": "markdown",
   "metadata": {},
   "source": [
    "Här använder vi samma verktyg som tidigare för att rita ut tangenten till en funktion, genom en punkt vars x-koordinat kan väljas med en slider. \n",
    "\n",
    "Disclaimer: Denna kod deriverar inte funktionen. Vi har skrivit in funktionens derivatafunktion i koden."
   ]
  },
  {
   "cell_type": "code",
   "execution_count": 6,
   "metadata": {
    "scrolled": false
   },
   "outputs": [
    {
     "data": {
      "application/vnd.jupyter.widget-view+json": {
       "model_id": "0631c8e08d67421ea3dbc1b5c3c2d928",
       "version_major": 2,
       "version_minor": 0
      },
      "text/plain": [
       "interactive(children=(FloatSlider(value=0.0, description='x', max=6.283185307179586, min=-6.283185307179586, s…"
      ]
     },
     "metadata": {},
     "output_type": "display_data"
    }
   ],
   "source": [
    "from ipywidgets import interactive\n",
    "import matplotlib.pyplot as plt\n",
    "import numpy as np\n",
    "\n",
    "# Vi vill undersöka sinusfunktionen. Vi namnger funktionen \"f\". Sinusfunktionen finns tillgänglig i numpy-paketet.\n",
    "def f(x):\n",
    "    return np.sin(x)\n",
    "    \n",
    "# Derivatan för sinus är cosinus. Vi namnger den \"df\".\n",
    "def df(x):\n",
    "    return np.cos(x)\n",
    "\n",
    "# Vi bestämmer gränser och skalor.\n",
    "xmin = -2*np.pi\n",
    "xmax = 2*np.pi\n",
    "step = np.pi/8\n",
    "ymin = -2\n",
    "ymax = 2\n",
    "tickstep = np.pi/2\n",
    "\n",
    "# Vi definierar en funktion som ritar en tangent till grafen i punkten x, som kan väljas med en slider.\n",
    "def update2(x):\n",
    "    fig = plt.figure(figsize=(12,8))\n",
    "    punkter = np.linspace(xmin, xmax, num=1000) # Val av intervall och antal punkter.\n",
    "    plt.plot(punkter, f(punkter), 'b-', lw=2.5) # Sinusfunktionen ritas ut med en blå kurva.\n",
    "    plt.plot(punkter, df(x)*punkter+f(x)-df(x)*x, 'r--') # Tangenten ritas som en röd, streckad linje.\n",
    "    plt.plot(x, f(x), 'ko') # Tangeringspunkten markeras som en svart prick\n",
    "    plt.text(x, f(x)+0.1, r'$k={:.4f}$'.format(df(x)), fontsize=20) # riktningskoefficienten skrivs ut.\n",
    "    plt.text(xmin+4/3*step,3/4*ymax,r'$f(x)=sin(x)$',color='b',fontsize=20) # funktionen skrivs ut.\n",
    "    \n",
    "    # Vi bestämmer axlarnas egenskaper\n",
    "    ax = fig.gca() # Först skapar vi axlarna\n",
    "    ax.set_ylim(ymin, ymax) # y-axelns gränser\n",
    "    ax.set_xlim(xmin, xmax) # x-axelns gränser\n",
    "    ax.set_xticks(np.arange(xmin,xmax+step,tickstep)) # x-axelns markeringar\n",
    "    # x-värden skrivs ut vid markeringarna\n",
    "    ax.set_xticklabels([r\"$-2\\pi$\",r'$-\\frac{%s}{%s}$'%(\"3\\pi\",2),r\"$-\\pi$\",r'$-\\frac{%s}{%s}$'%(\"\\pi\",2),\"0\",r'$\\frac{%s}{%s}$'%(\"\\pi\",2),r\"$\\pi$\",r'$\\frac{%s}{%s}$'%(\"3\\pi\",2),r\"$2\\pi$\"])\n",
    "    ax.set_yticks(np.arange(ymin, ymax+1, 1)) # y-axelns markeringar\n",
    "    ax.xaxis.set_tick_params(labelsize=16) # x-axelns fontstorlek\n",
    "    ax.yaxis.set_tick_params(labelsize=16) # y-axelns fontstorlek\n",
    "    ax.axhline(y=0, color='k') # Förtydligar x-axeln (y=0)\n",
    "    ax.axvline(x=0, color='k') # Förtydligar y-axeln (x=0)\n",
    "    plt.grid() # Rutsystem\n",
    "    \n",
    "    # Axlarnas rubriker\n",
    "    plt.xlabel(\"x\",fontsize=20)\n",
    "    plt.ylabel(\"y\",fontsize=20)\n",
    "    \n",
    "    # Slutligen ritas figuren\n",
    "    plt.show()\n",
    "\n",
    "# Vi gör en interaktiv graf, där x-värdet kan justeras med en slider.\n",
    "interactive_plot = interactive(update2, x=(xmin,xmax,step))\n",
    "interactive_plot"
   ]
  },
  {
   "cell_type": "markdown",
   "metadata": {},
   "source": [
    "## Funktionens nollställen"
   ]
  },
  {
   "cell_type": "markdown",
   "metadata": {},
   "source": [
    "Vi ska läsa ut en funktions nollställen och pricka in dem på en graf. I Python finns paketet **SymPy**, som hjälper oss med symbolräkning. SymPy kommer till nytta i denna uppgift."
   ]
  },
  {
   "cell_type": "code",
   "execution_count": 11,
   "metadata": {},
   "outputs": [
    {
     "name": "stdout",
     "output_type": "stream",
     "text": [
      "[0, 1 - sqrt(2), 1 + sqrt(2)]\n"
     ]
    }
   ],
   "source": [
    "from sympy import Symbol\n",
    "from sympy.solvers import solve\n",
    "import matplotlib.pyplot as plt\n",
    "import numpy as np\n",
    "\n",
    "# Vi definierar funktionen som ska undersökas\n",
    "def f(x):\n",
    "    return x**3-2*x**2-x\n",
    "\n",
    "# Vi tar symbolen x i bruk\n",
    "x = Symbol('x')\n",
    "\n",
    "# Vi löser ut funktionens rötter med solve-verktyget.\n",
    "roots = solve(f(x), x)\n",
    "\n",
    "# Vi skriver ut de rötter som hittades.\n",
    "print(roots)"
   ]
  },
  {
   "cell_type": "code",
   "execution_count": 10,
   "metadata": {},
   "outputs": [
    {
     "data": {
      "image/png": "[encoded data removed]",
      "text/plain": [
       "<Figure size 864x576 with 1 Axes>"
      ]
     },
     "metadata": {
      "needs_background": "light"
     },
     "output_type": "display_data"
    }
   ],
   "source": [
    "# Vi skapar en graf, och märker ut rötterna. \n",
    "\n",
    "punkter = np.linspace(-2,3,num=1000) # Vi bestämmer intervall och antal punkter\n",
    "fig = plt.figure(figsize=(12,8)) # Vi skapar figuren\n",
    "\n",
    "plt.plot(punkter,f(punkter)) # Vi ritar funktionen i det bestämda intervallet\n",
    "\n",
    "# Vi gör en for-loop som tar alla värden ur listan med nollställen och ritar ut punkterna.\n",
    "for root in roots:\n",
    "    plt.plot(root, f(root), 'ko', markersize=8)\n",
    "\n",
    "# Vi bestämmer axlarnas egenskaper\n",
    "ax = fig.gca() # Först skapar vi axlarna\n",
    "ax.axhline(y=0, color='k') # Förtydligar x-axeln (y=0)\n",
    "ax.axvline(x=0, color='k') # Förtydligar y-axeln (x=0)\n",
    "plt.grid() # Rutsystem\n",
    "\n",
    "# Slutligen visar vi grafen\n",
    "plt.show()"
   ]
  }
 ],
 "metadata": {
  "kernelspec": {
   "display_name": "Python 3",
   "language": "python",
   "name": "python3"
  },
  "language_info": {
   "codemirror_mode": {
    "name": "ipython",
    "version": 3
   },
   "file_extension": ".py",
   "mimetype": "text/x-python",
   "name": "python",
   "nbconvert_exporter": "python",
   "pygments_lexer": "ipython3",
   "version": "3.8.5"
  }
 },
 "nbformat": 4,
 "nbformat_minor": 5
}
