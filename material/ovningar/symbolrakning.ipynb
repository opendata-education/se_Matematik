{
 "cells": [
  {
   "cell_type": "markdown",
   "metadata": {},
   "source": [
    "# Symbolräkning med Python"
   ]
  },
  {
   "cell_type": "markdown",
   "metadata": {},
   "source": [
    "Vanligen utförs beräkningar i program med hjälp av numeriska metoder och algoritmer, och då kan endast närmevärden fås, men om man implementerar ett CAS (Computer Algebra System), kan man få exakta, symboliska svar.\n",
    "\n",
    "Python kan utföra symbolräkning med hjälp av funktionspaketet [SymPy](https://docs.sympy.org/). I denna Notebook hittar du en del exempel på hur SymPy kan användas. Om du vill ha fler exempel utöver denna introduktion kan du söka bland [SymPy:s instruktioner](https://docs.sympy.org/latest/tutorial/index.html)."
   ]
  },
  {
   "cell_type": "markdown",
   "metadata": {},
   "source": [
    "## Att definiera en funktion"
   ]
  },
  {
   "cell_type": "code",
   "execution_count": 1,
   "metadata": {},
   "outputs": [],
   "source": [
    "# Vi börjar med att importera paketet sympy.\n",
    "# Genom att skriva import kommandot som \"from ____ import *\" gör vi så att inget funktionsprefix behövs\n",
    "# (vi kan då skriva Symbol istället för sympy.Symbol och sin istället för sympy.sin)\n",
    "from sympy import *\n",
    "\n",
    "# I Python har variabler ingen betydelse innan de är definierade. SymPy är inget undantag.\n",
    "# För att använda x som en symbolvariabel behöver vi definiera den med SymPy-funktionen Symbol.\n",
    "x = Symbol('x')\n",
    "\n",
    "# Vi definierar några funktioner och namnger dem f(x), g(x) och h(x).\n",
    "def f(x):\n",
    "    return x**2 + x + 1\n",
    "\n",
    "def g(x):\n",
    "    return sin(x) + cos(x) - 1\n",
    "\n",
    "def h(x):\n",
    "    return 5*exp(x) + 1"
   ]
  },
  {
   "cell_type": "code",
   "execution_count": 2,
   "metadata": {},
   "outputs": [
    {
     "data": {
      "text/latex": [
       "$\\displaystyle x^{2} + x + 1$"
      ],
      "text/plain": [
       "x**2 + x + 1"
      ]
     },
     "execution_count": 2,
     "metadata": {},
     "output_type": "execute_result"
    }
   ],
   "source": [
    "# Vi kontrollerar att funktionerna kan skrivas ut symboliskt.\n",
    "f(x)"
   ]
  },
  {
   "cell_type": "code",
   "execution_count": 3,
   "metadata": {},
   "outputs": [
    {
     "data": {
      "text/latex": [
       "$\\displaystyle \\sin{\\left(x \\right)} + \\cos{\\left(x \\right)} - 1$"
      ],
      "text/plain": [
       "sin(x) + cos(x) - 1"
      ]
     },
     "execution_count": 3,
     "metadata": {},
     "output_type": "execute_result"
    }
   ],
   "source": [
    "g(x)"
   ]
  },
  {
   "cell_type": "code",
   "execution_count": 4,
   "metadata": {},
   "outputs": [
    {
     "data": {
      "text/latex": [
       "$\\displaystyle 5 e^{x} + 1$"
      ],
      "text/plain": [
       "5*exp(x) + 1"
      ]
     },
     "execution_count": 4,
     "metadata": {},
     "output_type": "execute_result"
    }
   ],
   "source": [
    "h(x)"
   ]
  },
  {
   "cell_type": "code",
   "execution_count": 5,
   "metadata": {},
   "outputs": [
    {
     "data": {
      "text/latex": [
       "$\\displaystyle 3$"
      ],
      "text/plain": [
       "3"
      ]
     },
     "execution_count": 5,
     "metadata": {},
     "output_type": "execute_result"
    }
   ],
   "source": [
    "# Vi substituerar x med 1 i funktionen f(x)\n",
    "\n",
    "f(x).subs(x, 1)"
   ]
  },
  {
   "cell_type": "code",
   "execution_count": 6,
   "metadata": {},
   "outputs": [
    {
     "data": {
      "text/latex": [
       "$\\displaystyle 1 + 5 e$"
      ],
      "text/plain": [
       "1 + 5*E"
      ]
     },
     "execution_count": 6,
     "metadata": {},
     "output_type": "execute_result"
    }
   ],
   "source": [
    "# Vi beräknar summan av g(0) och h(1).\n",
    "# Vi gör detta med ett mellansteg där vi beräknar de båda funktionsvärdena.\n",
    "\n",
    "g0 = g(x).subs(x, 0)\n",
    "h1 = h(x).subs(x, 1)\n",
    "\n",
    "g0 + h1"
   ]
  },
  {
   "cell_type": "code",
   "execution_count": 7,
   "metadata": {},
   "outputs": [
    {
     "data": {
      "text/latex": [
       "$\\displaystyle \\sin{\\left(x^{2} + x + 1 \\right)} + \\cos{\\left(x^{2} + x + 1 \\right)} - 1$"
      ],
      "text/plain": [
       "sin(x**2 + x + 1) + cos(x**2 + x + 1) - 1"
      ]
     },
     "execution_count": 7,
     "metadata": {},
     "output_type": "execute_result"
    }
   ],
   "source": [
    "# Vi definierar en sammansatt funktion, g(f(x))\n",
    "\n",
    "def c(x):\n",
    "    return g(f(x))\n",
    "\n",
    "c(x)"
   ]
  },
  {
   "cell_type": "markdown",
   "metadata": {},
   "source": [
    "## Derivator och integraler"
   ]
  },
  {
   "cell_type": "code",
   "execution_count": 8,
   "metadata": {},
   "outputs": [
    {
     "data": {
      "text/latex": [
       "$\\displaystyle 2 x + 1$"
      ],
      "text/plain": [
       "2*x + 1"
      ]
     },
     "execution_count": 8,
     "metadata": {},
     "output_type": "execute_result"
    }
   ],
   "source": [
    "# Vi deriverar f med hjälp av sympys funktion \"diff\".\n",
    "\n",
    "df = diff(f(x))\n",
    "df"
   ]
  },
  {
   "cell_type": "code",
   "execution_count": 9,
   "metadata": {},
   "outputs": [
    {
     "data": {
      "text/latex": [
       "$\\displaystyle 5 e^{5}$"
      ],
      "text/plain": [
       "5*exp(5)"
      ]
     },
     "execution_count": 9,
     "metadata": {},
     "output_type": "execute_result"
    }
   ],
   "source": [
    "# Vi beräknar h'(5)\n",
    "\n",
    "dh = diff(h(x))\n",
    "dh5 = dh.subs(x, 5)\n",
    "dh5"
   ]
  },
  {
   "cell_type": "code",
   "execution_count": 10,
   "metadata": {},
   "outputs": [
    {
     "data": {
      "text/latex": [
       "$\\displaystyle \\frac{x^{3}}{3} + \\frac{x^{2}}{2} + x$"
      ],
      "text/plain": [
       "x**3/3 + x**2/2 + x"
      ]
     },
     "execution_count": 10,
     "metadata": {},
     "output_type": "execute_result"
    }
   ],
   "source": [
    "# Vi integrerar f med avseende på x\n",
    "\n",
    "F = integrate(f(x),x)\n",
    "F"
   ]
  },
  {
   "cell_type": "code",
   "execution_count": 11,
   "metadata": {},
   "outputs": [
    {
     "data": {
      "text/latex": [
       "$\\displaystyle \\frac{355}{6}$"
      ],
      "text/plain": [
       "355/6"
      ]
     },
     "execution_count": 11,
     "metadata": {},
     "output_type": "execute_result"
    }
   ],
   "source": [
    "# Vi beräknar den bestämda integralen av f, då x går från 0 till 5.\n",
    "\n",
    "F0_5 = integrate(f(x),(x,0,5))\n",
    "F0_5"
   ]
  }
 ],
 "metadata": {
  "kernelspec": {
   "display_name": "Python 3",
   "language": "python",
   "name": "python3"
  },
  "language_info": {
   "codemirror_mode": {
    "name": "ipython",
    "version": 3
   },
   "file_extension": ".py",
   "mimetype": "text/x-python",
   "name": "python",
   "nbconvert_exporter": "python",
   "pygments_lexer": "ipython3",
   "version": "3.8.5"
  }
 },
 "nbformat": 4,
 "nbformat_minor": 5
}
